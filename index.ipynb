{
 "cells": [
  {
   "cell_type": "code",
   "execution_count": 8,
   "metadata": {},
   "outputs": [
    {
     "name": "stdout",
     "output_type": "stream",
     "text": [
      "Hello CatterPillar\n"
     ]
    }
   ],
   "source": [
    "print(\"Hello CatterPillar\")"
   ]
  },
  {
   "cell_type": "markdown",
   "metadata": {},
   "source": [
    "## SetUp"
   ]
  },
  {
   "cell_type": "code",
   "execution_count": 7,
   "metadata": {},
   "outputs": [],
   "source": [
    "import numpy as np\n",
    "import pandas as pd\n",
    "import matplotlib.pyplot as plt\n",
    "import seaborn as sns"
   ]
  },
  {
   "cell_type": "markdown",
   "metadata": {},
   "source": [
    "# DataSet and Threshold dataset already cleaned"
   ]
  },
  {
   "cell_type": "code",
   "execution_count": 19,
   "metadata": {},
   "outputs": [],
   "source": [
    "#reading dataset\n",
    "file_path = 'dataset.xlsx'\n",
    "df = pd.read_excel(file_path)"
   ]
  },
  {
   "cell_type": "code",
   "execution_count": 20,
   "metadata": {},
   "outputs": [
    {
     "data": {
      "text/html": [
       "<div>\n",
       "<style scoped>\n",
       "    .dataframe tbody tr th:only-of-type {\n",
       "        vertical-align: middle;\n",
       "    }\n",
       "\n",
       "    .dataframe tbody tr th {\n",
       "        vertical-align: top;\n",
       "    }\n",
       "\n",
       "    .dataframe thead th {\n",
       "        text-align: right;\n",
       "    }\n",
       "</style>\n",
       "<table border=\"1\" class=\"dataframe\">\n",
       "  <thead>\n",
       "    <tr style=\"text-align: right;\">\n",
       "      <th></th>\n",
       "      <th>Id</th>\n",
       "      <th>Time</th>\n",
       "      <th>Machine</th>\n",
       "      <th>Component</th>\n",
       "      <th>Parameter</th>\n",
       "      <th>Value</th>\n",
       "    </tr>\n",
       "  </thead>\n",
       "  <tbody>\n",
       "    <tr>\n",
       "      <th>0</th>\n",
       "      <td>48</td>\n",
       "      <td>2022-06-03 08:09:29</td>\n",
       "      <td>Excavator_1</td>\n",
       "      <td>Engine</td>\n",
       "      <td>Temparature</td>\n",
       "      <td>104.0</td>\n",
       "    </tr>\n",
       "    <tr>\n",
       "      <th>1</th>\n",
       "      <td>5</td>\n",
       "      <td>2022-05-12 02:05:42</td>\n",
       "      <td>Articulated_Truck_1</td>\n",
       "      <td>Fuel</td>\n",
       "      <td>Water in Fuel</td>\n",
       "      <td>70.0</td>\n",
       "    </tr>\n",
       "    <tr>\n",
       "      <th>2</th>\n",
       "      <td>24</td>\n",
       "      <td>2022-05-27 06:25:04</td>\n",
       "      <td>Articulated_Truck_1</td>\n",
       "      <td>Engine</td>\n",
       "      <td>Temparature</td>\n",
       "      <td>104.0</td>\n",
       "    </tr>\n",
       "    <tr>\n",
       "      <th>3</th>\n",
       "      <td>23</td>\n",
       "      <td>2022-05-12 20:36:47</td>\n",
       "      <td>Backhoe_Loader_1</td>\n",
       "      <td>Drive</td>\n",
       "      <td>Transmission Pressure</td>\n",
       "      <td>231.0</td>\n",
       "    </tr>\n",
       "    <tr>\n",
       "      <th>4</th>\n",
       "      <td>42</td>\n",
       "      <td>2022-06-28 04:06:30</td>\n",
       "      <td>Excavator_1</td>\n",
       "      <td>Engine</td>\n",
       "      <td>Oil Pressure</td>\n",
       "      <td>39.0</td>\n",
       "    </tr>\n",
       "  </tbody>\n",
       "</table>\n",
       "</div>"
      ],
      "text/plain": [
       "   Id                 Time              Machine Component  \\\n",
       "0  48  2022-06-03 08:09:29          Excavator_1    Engine   \n",
       "1   5  2022-05-12 02:05:42  Articulated_Truck_1      Fuel   \n",
       "2  24  2022-05-27 06:25:04  Articulated_Truck_1    Engine   \n",
       "3  23  2022-05-12 20:36:47     Backhoe_Loader_1     Drive   \n",
       "4  42  2022-06-28 04:06:30          Excavator_1    Engine   \n",
       "\n",
       "               Parameter  Value  \n",
       "0            Temparature  104.0  \n",
       "1          Water in Fuel   70.0  \n",
       "2            Temparature  104.0  \n",
       "3  Transmission Pressure  231.0  \n",
       "4           Oil Pressure   39.0  "
      ]
     },
     "execution_count": 20,
     "metadata": {},
     "output_type": "execute_result"
    }
   ],
   "source": [
    "df.head()"
   ]
  },
  {
   "cell_type": "code",
   "execution_count": null,
   "metadata": {},
   "outputs": [],
   "source": []
  }
 ],
 "metadata": {
  "kernelspec": {
   "display_name": "Python 3 (ipykernel)",
   "language": "python",
   "name": "python3"
  },
  "language_info": {
   "codemirror_mode": {
    "name": "ipython",
    "version": 3
   },
   "file_extension": ".py",
   "mimetype": "text/x-python",
   "name": "python",
   "nbconvert_exporter": "python",
   "pygments_lexer": "ipython3",
   "version": "3.10.13"
  }
 },
 "nbformat": 4,
 "nbformat_minor": 2
}
