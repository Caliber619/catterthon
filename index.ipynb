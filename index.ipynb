{
 "cells": [
  {
   "cell_type": "code",
   "execution_count": 8,
   "metadata": {},
   "outputs": [
    {
     "name": "stdout",
     "output_type": "stream",
     "text": [
      "Hello CatterPillar\n"
     ]
    }
   ],
   "source": [
    "print(\"Hello CatterPillar\")"
   ]
  },
  {
   "cell_type": "markdown",
   "metadata": {},
   "source": [
    "## SetUp"
   ]
  },
  {
   "cell_type": "code",
   "execution_count": 7,
   "metadata": {},
   "outputs": [],
   "source": [
    "import numpy as np\n",
    "import pandas as pd\n",
    "import matplotlib.pyplot as plt\n",
    "import seaborn as sns"
   ]
  },
  {
   "cell_type": "markdown",
   "metadata": {},
   "source": [
    "# DataSet and Threshold dataset already cleaned"
   ]
  },
  {
   "cell_type": "code",
   "execution_count": 28,
   "metadata": {},
   "outputs": [],
   "source": [
    "#reading dataset\n",
    "file_path = 'datasets/dataset.xlsx'\n",
    "measurements_df = pd.read_excel(file_path)"
   ]
  },
  {
   "cell_type": "code",
   "execution_count": 29,
   "metadata": {},
   "outputs": [
    {
     "data": {
      "text/html": [
       "<div>\n",
       "<style scoped>\n",
       "    .dataframe tbody tr th:only-of-type {\n",
       "        vertical-align: middle;\n",
       "    }\n",
       "\n",
       "    .dataframe tbody tr th {\n",
       "        vertical-align: top;\n",
       "    }\n",
       "\n",
       "    .dataframe thead th {\n",
       "        text-align: right;\n",
       "    }\n",
       "</style>\n",
       "<table border=\"1\" class=\"dataframe\">\n",
       "  <thead>\n",
       "    <tr style=\"text-align: right;\">\n",
       "      <th></th>\n",
       "      <th>Id</th>\n",
       "      <th>Time</th>\n",
       "      <th>Machine</th>\n",
       "      <th>Component</th>\n",
       "      <th>Parameter</th>\n",
       "      <th>Value</th>\n",
       "    </tr>\n",
       "  </thead>\n",
       "  <tbody>\n",
       "    <tr>\n",
       "      <th>0</th>\n",
       "      <td>48</td>\n",
       "      <td>2022-06-03 08:09:29</td>\n",
       "      <td>Excavator_1</td>\n",
       "      <td>Engine</td>\n",
       "      <td>Temparature</td>\n",
       "      <td>104.0</td>\n",
       "    </tr>\n",
       "    <tr>\n",
       "      <th>1</th>\n",
       "      <td>5</td>\n",
       "      <td>2022-05-12 02:05:42</td>\n",
       "      <td>Articulated_Truck_1</td>\n",
       "      <td>Fuel</td>\n",
       "      <td>Water in Fuel</td>\n",
       "      <td>70.0</td>\n",
       "    </tr>\n",
       "    <tr>\n",
       "      <th>2</th>\n",
       "      <td>24</td>\n",
       "      <td>2022-05-27 06:25:04</td>\n",
       "      <td>Articulated_Truck_1</td>\n",
       "      <td>Engine</td>\n",
       "      <td>Temparature</td>\n",
       "      <td>104.0</td>\n",
       "    </tr>\n",
       "    <tr>\n",
       "      <th>3</th>\n",
       "      <td>23</td>\n",
       "      <td>2022-05-12 20:36:47</td>\n",
       "      <td>Backhoe_Loader_1</td>\n",
       "      <td>Drive</td>\n",
       "      <td>Transmission Pressure</td>\n",
       "      <td>231.0</td>\n",
       "    </tr>\n",
       "    <tr>\n",
       "      <th>4</th>\n",
       "      <td>42</td>\n",
       "      <td>2022-06-28 04:06:30</td>\n",
       "      <td>Excavator_1</td>\n",
       "      <td>Engine</td>\n",
       "      <td>Oil Pressure</td>\n",
       "      <td>39.0</td>\n",
       "    </tr>\n",
       "  </tbody>\n",
       "</table>\n",
       "</div>"
      ],
      "text/plain": [
       "   Id                 Time              Machine Component  \\\n",
       "0  48  2022-06-03 08:09:29          Excavator_1    Engine   \n",
       "1   5  2022-05-12 02:05:42  Articulated_Truck_1      Fuel   \n",
       "2  24  2022-05-27 06:25:04  Articulated_Truck_1    Engine   \n",
       "3  23  2022-05-12 20:36:47     Backhoe_Loader_1     Drive   \n",
       "4  42  2022-06-28 04:06:30          Excavator_1    Engine   \n",
       "\n",
       "               Parameter  Value  \n",
       "0            Temparature  104.0  \n",
       "1          Water in Fuel   70.0  \n",
       "2            Temparature  104.0  \n",
       "3  Transmission Pressure  231.0  \n",
       "4           Oil Pressure   39.0  "
      ]
     },
     "execution_count": 29,
     "metadata": {},
     "output_type": "execute_result"
    }
   ],
   "source": [
    "measurements_df.head()"
   ]
  },
  {
   "cell_type": "code",
   "execution_count": 30,
   "metadata": {},
   "outputs": [
    {
     "data": {
      "text/html": [
       "<div>\n",
       "<style scoped>\n",
       "    .dataframe tbody tr th:only-of-type {\n",
       "        vertical-align: middle;\n",
       "    }\n",
       "\n",
       "    .dataframe tbody tr th {\n",
       "        vertical-align: top;\n",
       "    }\n",
       "\n",
       "    .dataframe thead th {\n",
       "        text-align: right;\n",
       "    }\n",
       "</style>\n",
       "<table border=\"1\" class=\"dataframe\">\n",
       "  <thead>\n",
       "    <tr style=\"text-align: right;\">\n",
       "      <th></th>\n",
       "      <th>Parameter</th>\n",
       "      <th>Treshold</th>\n",
       "      <th>Probability of Failure</th>\n",
       "    </tr>\n",
       "  </thead>\n",
       "  <tbody>\n",
       "    <tr>\n",
       "      <th>0</th>\n",
       "      <td>Engine Oil Pressure</td>\n",
       "      <td>Low 25, High 65</td>\n",
       "      <td>High</td>\n",
       "    </tr>\n",
       "    <tr>\n",
       "      <th>1</th>\n",
       "      <td>Engine Speed</td>\n",
       "      <td>High 1800</td>\n",
       "      <td>Medium</td>\n",
       "    </tr>\n",
       "    <tr>\n",
       "      <th>2</th>\n",
       "      <td>Engine Temparature</td>\n",
       "      <td>High 105</td>\n",
       "      <td>High</td>\n",
       "    </tr>\n",
       "    <tr>\n",
       "      <th>3</th>\n",
       "      <td>Brake Control</td>\n",
       "      <td>Low 1</td>\n",
       "      <td>Medium</td>\n",
       "    </tr>\n",
       "    <tr>\n",
       "      <th>4</th>\n",
       "      <td>Transmission Pressure</td>\n",
       "      <td>Low 200 and High 450</td>\n",
       "      <td>Medium</td>\n",
       "    </tr>\n",
       "  </tbody>\n",
       "</table>\n",
       "</div>"
      ],
      "text/plain": [
       "               Parameter              Treshold Probability of Failure\n",
       "0    Engine Oil Pressure       Low 25, High 65                   High\n",
       "1           Engine Speed             High 1800                 Medium\n",
       "2     Engine Temparature              High 105                   High\n",
       "3          Brake Control                 Low 1                 Medium\n",
       "4  Transmission Pressure  Low 200 and High 450                 Medium"
      ]
     },
     "execution_count": 30,
     "metadata": {},
     "output_type": "execute_result"
    }
   ],
   "source": [
    "#reading threshold dataset\n",
    "file_path2 = 'datasets/threshold.xlsx'\n",
    "thresholds_df = pd.read_excel(file_path2)\n",
    "thresholds_df.head()\n"
   ]
  },
  {
   "cell_type": "markdown",
   "metadata": {},
   "source": [
    "# Merging the dataset with common column - \"Parameter\""
   ]
  },
  {
   "cell_type": "code",
   "execution_count": 33,
   "metadata": {},
   "outputs": [
    {
     "data": {
      "text/html": [
       "<div>\n",
       "<style scoped>\n",
       "    .dataframe tbody tr th:only-of-type {\n",
       "        vertical-align: middle;\n",
       "    }\n",
       "\n",
       "    .dataframe tbody tr th {\n",
       "        vertical-align: top;\n",
       "    }\n",
       "\n",
       "    .dataframe thead th {\n",
       "        text-align: right;\n",
       "    }\n",
       "</style>\n",
       "<table border=\"1\" class=\"dataframe\">\n",
       "  <thead>\n",
       "    <tr style=\"text-align: right;\">\n",
       "      <th></th>\n",
       "      <th>Id</th>\n",
       "      <th>Time</th>\n",
       "      <th>Machine</th>\n",
       "      <th>Component</th>\n",
       "      <th>Parameter</th>\n",
       "      <th>Value</th>\n",
       "      <th>Treshold</th>\n",
       "      <th>Probability of Failure</th>\n",
       "    </tr>\n",
       "  </thead>\n",
       "  <tbody>\n",
       "    <tr>\n",
       "      <th>0</th>\n",
       "      <td>23</td>\n",
       "      <td>2022-05-12 20:36:47</td>\n",
       "      <td>Backhoe_Loader_1</td>\n",
       "      <td>Drive</td>\n",
       "      <td>Transmission Pressure</td>\n",
       "      <td>231.000000</td>\n",
       "      <td>Low 200 and High 450</td>\n",
       "      <td>Medium</td>\n",
       "    </tr>\n",
       "    <tr>\n",
       "      <th>1</th>\n",
       "      <td>1</td>\n",
       "      <td>2022-06-28 01:17:39</td>\n",
       "      <td>Articulated_Truck_1</td>\n",
       "      <td>Drive</td>\n",
       "      <td>Brake Control</td>\n",
       "      <td>2.000000</td>\n",
       "      <td>Low 1</td>\n",
       "      <td>Medium</td>\n",
       "    </tr>\n",
       "    <tr>\n",
       "      <th>2</th>\n",
       "      <td>39</td>\n",
       "      <td>2022-05-13 03:23:02</td>\n",
       "      <td>Excavator_1</td>\n",
       "      <td>Drive</td>\n",
       "      <td>Pedal Sensor</td>\n",
       "      <td>4.533982</td>\n",
       "      <td>High 4.7</td>\n",
       "      <td>Low</td>\n",
       "    </tr>\n",
       "    <tr>\n",
       "      <th>3</th>\n",
       "      <td>26</td>\n",
       "      <td>2022-06-09 02:21:39</td>\n",
       "      <td>Articulated_Truck_1</td>\n",
       "      <td>Drive</td>\n",
       "      <td>Pedal Sensor</td>\n",
       "      <td>3.900000</td>\n",
       "      <td>High 4.7</td>\n",
       "      <td>Low</td>\n",
       "    </tr>\n",
       "    <tr>\n",
       "      <th>4</th>\n",
       "      <td>2</td>\n",
       "      <td>2022-06-01 21:02:41</td>\n",
       "      <td>Articulated_Truck_1</td>\n",
       "      <td>Misc</td>\n",
       "      <td>Exhaust Gas Temparature</td>\n",
       "      <td>190.000000</td>\n",
       "      <td>High 365</td>\n",
       "      <td>High</td>\n",
       "    </tr>\n",
       "  </tbody>\n",
       "</table>\n",
       "</div>"
      ],
      "text/plain": [
       "   Id                 Time              Machine Component  \\\n",
       "0  23  2022-05-12 20:36:47     Backhoe_Loader_1     Drive   \n",
       "1   1  2022-06-28 01:17:39  Articulated_Truck_1     Drive   \n",
       "2  39  2022-05-13 03:23:02          Excavator_1     Drive   \n",
       "3  26  2022-06-09 02:21:39  Articulated_Truck_1     Drive   \n",
       "4   2  2022-06-01 21:02:41  Articulated_Truck_1      Misc   \n",
       "\n",
       "                 Parameter       Value              Treshold  \\\n",
       "0    Transmission Pressure  231.000000  Low 200 and High 450   \n",
       "1            Brake Control    2.000000                 Low 1   \n",
       "2             Pedal Sensor    4.533982              High 4.7   \n",
       "3             Pedal Sensor    3.900000              High 4.7   \n",
       "4  Exhaust Gas Temparature  190.000000              High 365   \n",
       "\n",
       "  Probability of Failure  \n",
       "0                 Medium  \n",
       "1                 Medium  \n",
       "2                    Low  \n",
       "3                    Low  \n",
       "4                   High  "
      ]
     },
     "execution_count": 33,
     "metadata": {},
     "output_type": "execute_result"
    }
   ],
   "source": [
    "merged_df = pd.merge(measurements_df, thresholds_df, on = 'Parameter')\n",
    "merged_df.head()"
   ]
  }
 ],
 "metadata": {
  "kernelspec": {
   "display_name": "Python 3 (ipykernel)",
   "language": "python",
   "name": "python3"
  },
  "language_info": {
   "codemirror_mode": {
    "name": "ipython",
    "version": 3
   },
   "file_extension": ".py",
   "mimetype": "text/x-python",
   "name": "python",
   "nbconvert_exporter": "python",
   "pygments_lexer": "ipython3",
   "version": "3.10.13"
  }
 },
 "nbformat": 4,
 "nbformat_minor": 2
}
